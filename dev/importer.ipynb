{
 "cells": [
  {
   "cell_type": "markdown",
   "metadata": {},
   "source": [
    "### Data importer"
   ]
  },
  {
   "cell_type": "code",
   "execution_count": 12,
   "metadata": {},
   "outputs": [],
   "source": [
    "import pandas as pd\n",
    "import numpy as np\n"
   ]
  },
  {
   "cell_type": "code",
   "execution_count": 3,
   "metadata": {},
   "outputs": [
    {
     "data": {
      "text/html": [
       "<div>\n",
       "<style scoped>\n",
       "    .dataframe tbody tr th:only-of-type {\n",
       "        vertical-align: middle;\n",
       "    }\n",
       "\n",
       "    .dataframe tbody tr th {\n",
       "        vertical-align: top;\n",
       "    }\n",
       "\n",
       "    .dataframe thead th {\n",
       "        text-align: right;\n",
       "    }\n",
       "</style>\n",
       "<table border=\"1\" class=\"dataframe\">\n",
       "  <thead>\n",
       "    <tr style=\"text-align: right;\">\n",
       "      <th></th>\n",
       "      <th>species</th>\n",
       "      <th>metal</th>\n",
       "      <th>place</th>\n",
       "      <th>number</th>\n",
       "      <th>individual</th>\n",
       "      <th>Pm replaced</th>\n",
       "      <th>height</th>\n",
       "      <th>length</th>\n",
       "      <th>mortality</th>\n",
       "      <th>causes</th>\n",
       "      <th>notes</th>\n",
       "      <th>GPS</th>\n",
       "      <th>solariscope</th>\n",
       "      <th>Unnamed: 13</th>\n",
       "    </tr>\n",
       "  </thead>\n",
       "  <tbody>\n",
       "    <tr>\n",
       "      <th>0</th>\n",
       "      <td>Ap</td>\n",
       "      <td>NE</td>\n",
       "      <td>ut</td>\n",
       "      <td>1</td>\n",
       "      <td>1</td>\n",
       "      <td>NaN</td>\n",
       "      <td>NaN</td>\n",
       "      <td>74.0</td>\n",
       "      <td>dead</td>\n",
       "      <td>NaN</td>\n",
       "      <td>NaN</td>\n",
       "      <td>NaN</td>\n",
       "      <td>NaN</td>\n",
       "      <td>NaN</td>\n",
       "    </tr>\n",
       "    <tr>\n",
       "      <th>1</th>\n",
       "      <td>Ap</td>\n",
       "      <td>NE</td>\n",
       "      <td>ut</td>\n",
       "      <td>1</td>\n",
       "      <td>2</td>\n",
       "      <td>NaN</td>\n",
       "      <td>NaN</td>\n",
       "      <td>39.0</td>\n",
       "      <td>dead</td>\n",
       "      <td>NaN</td>\n",
       "      <td>NaN</td>\n",
       "      <td>NaN</td>\n",
       "      <td>NaN</td>\n",
       "      <td>NaN</td>\n",
       "    </tr>\n",
       "    <tr>\n",
       "      <th>2</th>\n",
       "      <td>Ap</td>\n",
       "      <td>NE</td>\n",
       "      <td>ut</td>\n",
       "      <td>1</td>\n",
       "      <td>3</td>\n",
       "      <td>NaN</td>\n",
       "      <td>52.0</td>\n",
       "      <td>52.0</td>\n",
       "      <td>NaN</td>\n",
       "      <td>NaN</td>\n",
       "      <td>NaN</td>\n",
       "      <td>NaN</td>\n",
       "      <td>NaN</td>\n",
       "      <td>NaN</td>\n",
       "    </tr>\n",
       "    <tr>\n",
       "      <th>3</th>\n",
       "      <td>Ap</td>\n",
       "      <td>NE</td>\n",
       "      <td>ut</td>\n",
       "      <td>1</td>\n",
       "      <td>4</td>\n",
       "      <td>NaN</td>\n",
       "      <td>1.0</td>\n",
       "      <td>20.0</td>\n",
       "      <td>ms dead</td>\n",
       "      <td>NaN</td>\n",
       "      <td>new shoot at side vital</td>\n",
       "      <td>NaN</td>\n",
       "      <td>NaN</td>\n",
       "      <td>NaN</td>\n",
       "    </tr>\n",
       "    <tr>\n",
       "      <th>4</th>\n",
       "      <td>Ap</td>\n",
       "      <td>NE</td>\n",
       "      <td>ut</td>\n",
       "      <td>1</td>\n",
       "      <td>5</td>\n",
       "      <td>NaN</td>\n",
       "      <td>49.0</td>\n",
       "      <td>49.0</td>\n",
       "      <td>NaN</td>\n",
       "      <td>NaN</td>\n",
       "      <td>NaN</td>\n",
       "      <td>NaN</td>\n",
       "      <td>NaN</td>\n",
       "      <td>NaN</td>\n",
       "    </tr>\n",
       "  </tbody>\n",
       "</table>\n",
       "</div>"
      ],
      "text/plain": [
       "  species metal place  number individual Pm replaced  height  length  \\\n",
       "0      Ap    NE    ut       1          1         NaN     NaN    74.0   \n",
       "1      Ap    NE    ut       1          2         NaN     NaN    39.0   \n",
       "2      Ap    NE    ut       1          3         NaN    52.0    52.0   \n",
       "3      Ap    NE    ut       1          4         NaN     1.0    20.0   \n",
       "4      Ap    NE    ut       1          5         NaN    49.0    49.0   \n",
       "\n",
       "  mortality causes                    notes  GPS  solariscope Unnamed: 13  \n",
       "0      dead    NaN                      NaN  NaN          NaN         NaN  \n",
       "1      dead    NaN                      NaN  NaN          NaN         NaN  \n",
       "2       NaN    NaN                      NaN  NaN          NaN         NaN  \n",
       "3   ms dead    NaN  new shoot at side vital  NaN          NaN         NaN  \n",
       "4       NaN    NaN                      NaN  NaN          NaN         NaN  "
      ]
     },
     "execution_count": 3,
     "metadata": {},
     "output_type": "execute_result"
    }
   ],
   "source": [
    "df = pd.read_excel('data.xlsx')\n",
    "df.head()"
   ]
  },
  {
   "cell_type": "code",
   "execution_count": 7,
   "metadata": {},
   "outputs": [],
   "source": [
    "# add the lookups\n",
    "PLACE = {\n",
    "    'fs': 1,\n",
    "    'ut': 2,\n",
    "    'st': 3,\n",
    "    'hs': 4,\n",
    "    'tr': 5\n",
    "}\n"
   ]
  },
  {
   "cell_type": "code",
   "execution_count": 11,
   "metadata": {},
   "outputs": [
    {
     "data": {
      "text/plain": [
       "[{'site': 1,\n",
       "  'treatment': 3,\n",
       "  'number': 1,\n",
       "  'individual': 1,\n",
       "  'place': 2,\n",
       "  'pm_replaced': False},\n",
       " {'site': 1,\n",
       "  'treatment': 3,\n",
       "  'number': 1,\n",
       "  'individual': 2,\n",
       "  'place': 2,\n",
       "  'pm_replaced': False},\n",
       " {'site': 1,\n",
       "  'treatment': 3,\n",
       "  'number': 1,\n",
       "  'individual': 3,\n",
       "  'place': 2,\n",
       "  'pm_replaced': False}]"
      ]
     },
     "execution_count": 11,
     "metadata": {},
     "output_type": "execute_result"
    }
   ],
   "source": [
    "plots = []\n",
    "datasets = []\n",
    "\n",
    "for i, row in df.iterrows():\n",
    "    plots.append({\n",
    "        'site': 1,\n",
    "        'treatment': 3,\n",
    "        'number': row.number,\n",
    "        'individual': row.individual,\n",
    "        'place': PLACE[row.place.lower()],\n",
    "        'pm_replaced': str(row['Pm replaced']).lower() == 'yes',\n",
    "        'gps': f'POINT ()' if not np.isnan(row.GPS) else None \n",
    "    })\n",
    "\n",
    "plots[:3]"
   ]
  }
 ],
 "metadata": {
  "kernelspec": {
   "display_name": "Python 3.9.12 ('base')",
   "language": "python",
   "name": "python3"
  },
  "language_info": {
   "codemirror_mode": {
    "name": "ipython",
    "version": 3
   },
   "file_extension": ".py",
   "mimetype": "text/x-python",
   "name": "python",
   "nbconvert_exporter": "python",
   "pygments_lexer": "ipython3",
   "version": "3.9.12"
  },
  "orig_nbformat": 4,
  "vscode": {
   "interpreter": {
    "hash": "2c57ebfed52ffd848a0d2f36f1ea9c0a9060c9b67397fbb725d6aa92a9494b08"
   }
  }
 },
 "nbformat": 4,
 "nbformat_minor": 2
}
